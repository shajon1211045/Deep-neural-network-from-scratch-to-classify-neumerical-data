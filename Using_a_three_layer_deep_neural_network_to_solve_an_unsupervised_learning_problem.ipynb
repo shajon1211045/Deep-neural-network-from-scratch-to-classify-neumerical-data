{
  "nbformat": 4,
  "nbformat_minor": 0,
  "metadata": {
    "colab": {
      "provenance": [],
      "collapsed_sections": []
    },
    "kernelspec": {
      "name": "python3",
      "display_name": "Python 3"
    },
    "language_info": {
      "name": "python"
    }
  },
  "cells": [
    {
      "cell_type": "markdown",
      "source": [
        "# In this notebook I created a three layer deep neural network to classify neumerical data."
      ],
      "metadata": {
        "id": "ILzWUmQRxy-e"
      }
    },
    {
      "cell_type": "markdown",
      "source": [
        "To apply a three layer neural network, we first need to preprocess the train and test data."
      ],
      "metadata": {
        "id": "1X5_BN9xno1e"
      }
    },
    {
      "cell_type": "markdown",
      "source": [
        "# Importing libraries"
      ],
      "metadata": {
        "id": "FkB8OAYlDcMb"
      }
    },
    {
      "cell_type": "markdown",
      "source": [
        "Necessary liabraries which will help us preprocess the train and test data are imported bellow."
      ],
      "metadata": {
        "id": "dSDOG-jZpwzG"
      }
    },
    {
      "cell_type": "code",
      "source": [
        "import pandas as pd\n",
        "import numpy as np\n",
        "from sklearn.model_selection import train_test_split\n",
        "from sklearn import preprocessing\n",
        "from sklearn import linear_model\n",
        "from sklearn.metrics import accuracy_score\n",
        "import matplotlib.pyplot as plt\n",
        "import time"
      ],
      "metadata": {
        "id": "Yqj5w0xTPfsX"
      },
      "execution_count": 1,
      "outputs": []
    },
    {
      "cell_type": "markdown",
      "source": [
        "# Loading the Dataset\n"
      ],
      "metadata": {
        "id": "U-AcQLLiDsl_"
      }
    },
    {
      "cell_type": "code",
      "source": [
        "from google.colab import drive\n",
        "drive.mount('/content/drive')"
      ],
      "metadata": {
        "colab": {
          "base_uri": "https://localhost:8080/"
        },
        "id": "vjKLFZ7Yi13Y",
        "outputId": "28a830b9-632e-41da-e9f6-c9f4b8bf1b23"
      },
      "execution_count": 2,
      "outputs": [
        {
          "output_type": "stream",
          "name": "stdout",
          "text": [
            "Mounted at /content/drive\n"
          ]
        }
      ]
    },
    {
      "cell_type": "markdown",
      "source": [
        "I loaded the train and test data in csv format from google drive with pandas."
      ],
      "metadata": {
        "id": "O4ymU2tcqn9S"
      }
    },
    {
      "cell_type": "code",
      "source": [
        "train_data = pd.read_csv('/content/drive/MyDrive/trnData4D.csv',header = None)\n",
        "test_data = pd.read_csv('/content/drive/MyDrive/tstData4D.csv',header = None)"
      ],
      "metadata": {
        "id": "ANgZuo9jDmCD"
      },
      "execution_count": 3,
      "outputs": []
    },
    {
      "cell_type": "markdown",
      "source": [
        "# Checking the train an test data"
      ],
      "metadata": {
        "id": "uFPzyTm35srR"
      }
    },
    {
      "cell_type": "markdown",
      "source": [
        "We can see that both train and test data are four dimensional and contains 15000 examples each."
      ],
      "metadata": {
        "id": "aZbME_gWr__n"
      }
    },
    {
      "cell_type": "code",
      "source": [
        "train_data.shape"
      ],
      "metadata": {
        "colab": {
          "base_uri": "https://localhost:8080/"
        },
        "id": "KCHDARp5570B",
        "outputId": "8a8983c8-c475-4bba-97b4-68fd00661b68"
      },
      "execution_count": null,
      "outputs": [
        {
          "output_type": "execute_result",
          "data": {
            "text/plain": [
              "(15000, 4)"
            ]
          },
          "metadata": {},
          "execution_count": 4
        }
      ]
    },
    {
      "cell_type": "code",
      "source": [
        "test_data.shape"
      ],
      "metadata": {
        "colab": {
          "base_uri": "https://localhost:8080/"
        },
        "id": "QHtKzqV66GDZ",
        "outputId": "f978e28b-646d-48b2-cd63-3aec79736e4b"
      },
      "execution_count": null,
      "outputs": [
        {
          "output_type": "execute_result",
          "data": {
            "text/plain": [
              "(15000, 4)"
            ]
          },
          "metadata": {},
          "execution_count": 5
        }
      ]
    },
    {
      "cell_type": "markdown",
      "source": [
        "# Create training classes"
      ],
      "metadata": {
        "id": "3tpY6r_ynkAB"
      }
    },
    {
      "cell_type": "markdown",
      "source": [
        "![Capture.jpg](data:image/jpeg;base64,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)\n",
        "\n"
      ],
      "metadata": {
        "id": "bQvRpn8HuImM"
      }
    },
    {
      "cell_type": "markdown",
      "source": [
        "According to The training dataset matlab file in the figure above, the first 7500 rows are class 1 and the second 7500 rows are class 2. We need to create a new column **'class_name'** that labels first 7500 data as 0 (for class 1) and second 7500 data as 1 (for class 2)."
      ],
      "metadata": {
        "id": "HqwfKk8NPEFp"
      }
    },
    {
      "cell_type": "code",
      "source": [
        "class_name = [i for i in range(1,15001) ] \n",
        "train_data['class_name'] = class_name\n",
        "train_data['class_name'].iloc[0:7500] = 0  # data belong to class_1 is set to '0'\n",
        "train_data['class_name'].iloc[7500:15000] = 1 # data belong to class_2 is set to '1'"
      ],
      "metadata": {
        "colab": {
          "base_uri": "https://localhost:8080/"
        },
        "id": "kbf2VxsPntAo",
        "outputId": "5c150123-bf1f-4df6-dc86-6f30bb2fe9ab",
        "collapsed": true
      },
      "execution_count": null,
      "outputs": [
        {
          "output_type": "stream",
          "name": "stderr",
          "text": [
            "/usr/local/lib/python3.7/dist-packages/pandas/core/indexing.py:1732: SettingWithCopyWarning: \n",
            "A value is trying to be set on a copy of a slice from a DataFrame\n",
            "\n",
            "See the caveats in the documentation: https://pandas.pydata.org/pandas-docs/stable/user_guide/indexing.html#returning-a-view-versus-a-copy\n",
            "  self._setitem_single_block(indexer, value, name)\n"
          ]
        }
      ]
    },
    {
      "cell_type": "markdown",
      "source": [
        "# Checking the updated data"
      ],
      "metadata": {
        "id": "vgUH83dyqNiH"
      }
    },
    {
      "cell_type": "markdown",
      "source": [
        "Here are the first 4 rows of the labeled data, all of which belong to class_1."
      ],
      "metadata": {
        "id": "t25wyNy4y8zA"
      }
    },
    {
      "cell_type": "code",
      "source": [
        "train_data.head()"
      ],
      "metadata": {
        "colab": {
          "base_uri": "https://localhost:8080/",
          "height": 206
        },
        "id": "xvoy5stuqTjG",
        "outputId": "85a2123e-82cf-4483-e274-bb5a99ff2975"
      },
      "execution_count": null,
      "outputs": [
        {
          "output_type": "execute_result",
          "data": {
            "text/plain": [
              "           0         1         2         3  class_name\n",
              "0   0.351074  3.635034  6.047802 -3.335702           0\n",
              "1   6.391923  4.069761  5.844878 -7.343990           0\n",
              "2 -10.094422 -5.324229  0.806393 -4.402726           0\n",
              "3  -9.151437 -1.194381  6.352514 -0.786227           0\n",
              "4   3.057876 -9.318271 -2.736060 -6.155479           0"
            ],
            "text/html": [
              "\n",
              "  <div id=\"df-29e8631f-3d67-426f-8892-e65dc02e533d\">\n",
              "    <div class=\"colab-df-container\">\n",
              "      <div>\n",
              "<style scoped>\n",
              "    .dataframe tbody tr th:only-of-type {\n",
              "        vertical-align: middle;\n",
              "    }\n",
              "\n",
              "    .dataframe tbody tr th {\n",
              "        vertical-align: top;\n",
              "    }\n",
              "\n",
              "    .dataframe thead th {\n",
              "        text-align: right;\n",
              "    }\n",
              "</style>\n",
              "<table border=\"1\" class=\"dataframe\">\n",
              "  <thead>\n",
              "    <tr style=\"text-align: right;\">\n",
              "      <th></th>\n",
              "      <th>0</th>\n",
              "      <th>1</th>\n",
              "      <th>2</th>\n",
              "      <th>3</th>\n",
              "      <th>class_name</th>\n",
              "    </tr>\n",
              "  </thead>\n",
              "  <tbody>\n",
              "    <tr>\n",
              "      <th>0</th>\n",
              "      <td>0.351074</td>\n",
              "      <td>3.635034</td>\n",
              "      <td>6.047802</td>\n",
              "      <td>-3.335702</td>\n",
              "      <td>0</td>\n",
              "    </tr>\n",
              "    <tr>\n",
              "      <th>1</th>\n",
              "      <td>6.391923</td>\n",
              "      <td>4.069761</td>\n",
              "      <td>5.844878</td>\n",
              "      <td>-7.343990</td>\n",
              "      <td>0</td>\n",
              "    </tr>\n",
              "    <tr>\n",
              "      <th>2</th>\n",
              "      <td>-10.094422</td>\n",
              "      <td>-5.324229</td>\n",
              "      <td>0.806393</td>\n",
              "      <td>-4.402726</td>\n",
              "      <td>0</td>\n",
              "    </tr>\n",
              "    <tr>\n",
              "      <th>3</th>\n",
              "      <td>-9.151437</td>\n",
              "      <td>-1.194381</td>\n",
              "      <td>6.352514</td>\n",
              "      <td>-0.786227</td>\n",
              "      <td>0</td>\n",
              "    </tr>\n",
              "    <tr>\n",
              "      <th>4</th>\n",
              "      <td>3.057876</td>\n",
              "      <td>-9.318271</td>\n",
              "      <td>-2.736060</td>\n",
              "      <td>-6.155479</td>\n",
              "      <td>0</td>\n",
              "    </tr>\n",
              "  </tbody>\n",
              "</table>\n",
              "</div>\n",
              "      <button class=\"colab-df-convert\" onclick=\"convertToInteractive('df-29e8631f-3d67-426f-8892-e65dc02e533d')\"\n",
              "              title=\"Convert this dataframe to an interactive table.\"\n",
              "              style=\"display:none;\">\n",
              "        \n",
              "  <svg xmlns=\"http://www.w3.org/2000/svg\" height=\"24px\"viewBox=\"0 0 24 24\"\n",
              "       width=\"24px\">\n",
              "    <path d=\"M0 0h24v24H0V0z\" fill=\"none\"/>\n",
              "    <path d=\"M18.56 5.44l.94 2.06.94-2.06 2.06-.94-2.06-.94-.94-2.06-.94 2.06-2.06.94zm-11 1L8.5 8.5l.94-2.06 2.06-.94-2.06-.94L8.5 2.5l-.94 2.06-2.06.94zm10 10l.94 2.06.94-2.06 2.06-.94-2.06-.94-.94-2.06-.94 2.06-2.06.94z\"/><path d=\"M17.41 7.96l-1.37-1.37c-.4-.4-.92-.59-1.43-.59-.52 0-1.04.2-1.43.59L10.3 9.45l-7.72 7.72c-.78.78-.78 2.05 0 2.83L4 21.41c.39.39.9.59 1.41.59.51 0 1.02-.2 1.41-.59l7.78-7.78 2.81-2.81c.8-.78.8-2.07 0-2.86zM5.41 20L4 18.59l7.72-7.72 1.47 1.35L5.41 20z\"/>\n",
              "  </svg>\n",
              "      </button>\n",
              "      \n",
              "  <style>\n",
              "    .colab-df-container {\n",
              "      display:flex;\n",
              "      flex-wrap:wrap;\n",
              "      gap: 12px;\n",
              "    }\n",
              "\n",
              "    .colab-df-convert {\n",
              "      background-color: #E8F0FE;\n",
              "      border: none;\n",
              "      border-radius: 50%;\n",
              "      cursor: pointer;\n",
              "      display: none;\n",
              "      fill: #1967D2;\n",
              "      height: 32px;\n",
              "      padding: 0 0 0 0;\n",
              "      width: 32px;\n",
              "    }\n",
              "\n",
              "    .colab-df-convert:hover {\n",
              "      background-color: #E2EBFA;\n",
              "      box-shadow: 0px 1px 2px rgba(60, 64, 67, 0.3), 0px 1px 3px 1px rgba(60, 64, 67, 0.15);\n",
              "      fill: #174EA6;\n",
              "    }\n",
              "\n",
              "    [theme=dark] .colab-df-convert {\n",
              "      background-color: #3B4455;\n",
              "      fill: #D2E3FC;\n",
              "    }\n",
              "\n",
              "    [theme=dark] .colab-df-convert:hover {\n",
              "      background-color: #434B5C;\n",
              "      box-shadow: 0px 1px 3px 1px rgba(0, 0, 0, 0.15);\n",
              "      filter: drop-shadow(0px 1px 2px rgba(0, 0, 0, 0.3));\n",
              "      fill: #FFFFFF;\n",
              "    }\n",
              "  </style>\n",
              "\n",
              "      <script>\n",
              "        const buttonEl =\n",
              "          document.querySelector('#df-29e8631f-3d67-426f-8892-e65dc02e533d button.colab-df-convert');\n",
              "        buttonEl.style.display =\n",
              "          google.colab.kernel.accessAllowed ? 'block' : 'none';\n",
              "\n",
              "        async function convertToInteractive(key) {\n",
              "          const element = document.querySelector('#df-29e8631f-3d67-426f-8892-e65dc02e533d');\n",
              "          const dataTable =\n",
              "            await google.colab.kernel.invokeFunction('convertToInteractive',\n",
              "                                                     [key], {});\n",
              "          if (!dataTable) return;\n",
              "\n",
              "          const docLinkHtml = 'Like what you see? Visit the ' +\n",
              "            '<a target=\"_blank\" href=https://colab.research.google.com/notebooks/data_table.ipynb>data table notebook</a>'\n",
              "            + ' to learn more about interactive tables.';\n",
              "          element.innerHTML = '';\n",
              "          dataTable['output_type'] = 'display_data';\n",
              "          await google.colab.output.renderOutput(dataTable, element);\n",
              "          const docLink = document.createElement('div');\n",
              "          docLink.innerHTML = docLinkHtml;\n",
              "          element.appendChild(docLink);\n",
              "        }\n",
              "      </script>\n",
              "    </div>\n",
              "  </div>\n",
              "  "
            ]
          },
          "metadata": {},
          "execution_count": 7
        }
      ]
    },
    {
      "cell_type": "markdown",
      "source": [
        "# Randomize the Dataset"
      ],
      "metadata": {
        "id": "K8qAUmTkBOfR"
      }
    },
    {
      "cell_type": "markdown",
      "source": [
        "We need to randomize the train data to make sure the data is random, so that the deep neural network can learn properly. "
      ],
      "metadata": {
        "id": "2WvTmUCp0YO4"
      }
    },
    {
      "cell_type": "code",
      "source": [
        "from collections import Counter\n",
        "Counter(train_data[\"class_name\"])\n",
        "train_data_updated = train_data.sample(frac=1).reset_index(drop=True)\n",
        "train_data_updated.head()"
      ],
      "metadata": {
        "colab": {
          "base_uri": "https://localhost:8080/",
          "height": 206
        },
        "id": "fV5L6OX1Mj37",
        "outputId": "ada2d090-35c4-44e5-953a-67333e8d5a47"
      },
      "execution_count": null,
      "outputs": [
        {
          "output_type": "execute_result",
          "data": {
            "text/plain": [
              "           0          1          2         3  class_name\n",
              "0 -10.367114   1.277441 -12.717023 -6.364142           1\n",
              "1  20.357408   7.256240   4.330741  4.760770           0\n",
              "2  -4.198735 -12.954712   5.259562  0.981366           0\n",
              "3  -3.050634 -21.418892  11.441526 -4.579618           0\n",
              "4  -4.377067 -21.413754   2.636542 -7.933846           0"
            ],
            "text/html": [
              "\n",
              "  <div id=\"df-36f4aef9-50b9-40a3-9cd0-10baa8bb2321\">\n",
              "    <div class=\"colab-df-container\">\n",
              "      <div>\n",
              "<style scoped>\n",
              "    .dataframe tbody tr th:only-of-type {\n",
              "        vertical-align: middle;\n",
              "    }\n",
              "\n",
              "    .dataframe tbody tr th {\n",
              "        vertical-align: top;\n",
              "    }\n",
              "\n",
              "    .dataframe thead th {\n",
              "        text-align: right;\n",
              "    }\n",
              "</style>\n",
              "<table border=\"1\" class=\"dataframe\">\n",
              "  <thead>\n",
              "    <tr style=\"text-align: right;\">\n",
              "      <th></th>\n",
              "      <th>0</th>\n",
              "      <th>1</th>\n",
              "      <th>2</th>\n",
              "      <th>3</th>\n",
              "      <th>class_name</th>\n",
              "    </tr>\n",
              "  </thead>\n",
              "  <tbody>\n",
              "    <tr>\n",
              "      <th>0</th>\n",
              "      <td>-10.367114</td>\n",
              "      <td>1.277441</td>\n",
              "      <td>-12.717023</td>\n",
              "      <td>-6.364142</td>\n",
              "      <td>1</td>\n",
              "    </tr>\n",
              "    <tr>\n",
              "      <th>1</th>\n",
              "      <td>20.357408</td>\n",
              "      <td>7.256240</td>\n",
              "      <td>4.330741</td>\n",
              "      <td>4.760770</td>\n",
              "      <td>0</td>\n",
              "    </tr>\n",
              "    <tr>\n",
              "      <th>2</th>\n",
              "      <td>-4.198735</td>\n",
              "      <td>-12.954712</td>\n",
              "      <td>5.259562</td>\n",
              "      <td>0.981366</td>\n",
              "      <td>0</td>\n",
              "    </tr>\n",
              "    <tr>\n",
              "      <th>3</th>\n",
              "      <td>-3.050634</td>\n",
              "      <td>-21.418892</td>\n",
              "      <td>11.441526</td>\n",
              "      <td>-4.579618</td>\n",
              "      <td>0</td>\n",
              "    </tr>\n",
              "    <tr>\n",
              "      <th>4</th>\n",
              "      <td>-4.377067</td>\n",
              "      <td>-21.413754</td>\n",
              "      <td>2.636542</td>\n",
              "      <td>-7.933846</td>\n",
              "      <td>0</td>\n",
              "    </tr>\n",
              "  </tbody>\n",
              "</table>\n",
              "</div>\n",
              "      <button class=\"colab-df-convert\" onclick=\"convertToInteractive('df-36f4aef9-50b9-40a3-9cd0-10baa8bb2321')\"\n",
              "              title=\"Convert this dataframe to an interactive table.\"\n",
              "              style=\"display:none;\">\n",
              "        \n",
              "  <svg xmlns=\"http://www.w3.org/2000/svg\" height=\"24px\"viewBox=\"0 0 24 24\"\n",
              "       width=\"24px\">\n",
              "    <path d=\"M0 0h24v24H0V0z\" fill=\"none\"/>\n",
              "    <path d=\"M18.56 5.44l.94 2.06.94-2.06 2.06-.94-2.06-.94-.94-2.06-.94 2.06-2.06.94zm-11 1L8.5 8.5l.94-2.06 2.06-.94-2.06-.94L8.5 2.5l-.94 2.06-2.06.94zm10 10l.94 2.06.94-2.06 2.06-.94-2.06-.94-.94-2.06-.94 2.06-2.06.94z\"/><path d=\"M17.41 7.96l-1.37-1.37c-.4-.4-.92-.59-1.43-.59-.52 0-1.04.2-1.43.59L10.3 9.45l-7.72 7.72c-.78.78-.78 2.05 0 2.83L4 21.41c.39.39.9.59 1.41.59.51 0 1.02-.2 1.41-.59l7.78-7.78 2.81-2.81c.8-.78.8-2.07 0-2.86zM5.41 20L4 18.59l7.72-7.72 1.47 1.35L5.41 20z\"/>\n",
              "  </svg>\n",
              "      </button>\n",
              "      \n",
              "  <style>\n",
              "    .colab-df-container {\n",
              "      display:flex;\n",
              "      flex-wrap:wrap;\n",
              "      gap: 12px;\n",
              "    }\n",
              "\n",
              "    .colab-df-convert {\n",
              "      background-color: #E8F0FE;\n",
              "      border: none;\n",
              "      border-radius: 50%;\n",
              "      cursor: pointer;\n",
              "      display: none;\n",
              "      fill: #1967D2;\n",
              "      height: 32px;\n",
              "      padding: 0 0 0 0;\n",
              "      width: 32px;\n",
              "    }\n",
              "\n",
              "    .colab-df-convert:hover {\n",
              "      background-color: #E2EBFA;\n",
              "      box-shadow: 0px 1px 2px rgba(60, 64, 67, 0.3), 0px 1px 3px 1px rgba(60, 64, 67, 0.15);\n",
              "      fill: #174EA6;\n",
              "    }\n",
              "\n",
              "    [theme=dark] .colab-df-convert {\n",
              "      background-color: #3B4455;\n",
              "      fill: #D2E3FC;\n",
              "    }\n",
              "\n",
              "    [theme=dark] .colab-df-convert:hover {\n",
              "      background-color: #434B5C;\n",
              "      box-shadow: 0px 1px 3px 1px rgba(0, 0, 0, 0.15);\n",
              "      filter: drop-shadow(0px 1px 2px rgba(0, 0, 0, 0.3));\n",
              "      fill: #FFFFFF;\n",
              "    }\n",
              "  </style>\n",
              "\n",
              "      <script>\n",
              "        const buttonEl =\n",
              "          document.querySelector('#df-36f4aef9-50b9-40a3-9cd0-10baa8bb2321 button.colab-df-convert');\n",
              "        buttonEl.style.display =\n",
              "          google.colab.kernel.accessAllowed ? 'block' : 'none';\n",
              "\n",
              "        async function convertToInteractive(key) {\n",
              "          const element = document.querySelector('#df-36f4aef9-50b9-40a3-9cd0-10baa8bb2321');\n",
              "          const dataTable =\n",
              "            await google.colab.kernel.invokeFunction('convertToInteractive',\n",
              "                                                     [key], {});\n",
              "          if (!dataTable) return;\n",
              "\n",
              "          const docLinkHtml = 'Like what you see? Visit the ' +\n",
              "            '<a target=\"_blank\" href=https://colab.research.google.com/notebooks/data_table.ipynb>data table notebook</a>'\n",
              "            + ' to learn more about interactive tables.';\n",
              "          element.innerHTML = '';\n",
              "          dataTable['output_type'] = 'display_data';\n",
              "          await google.colab.output.renderOutput(dataTable, element);\n",
              "          const docLink = document.createElement('div');\n",
              "          docLink.innerHTML = docLinkHtml;\n",
              "          element.appendChild(docLink);\n",
              "        }\n",
              "      </script>\n",
              "    </div>\n",
              "  </div>\n",
              "  "
            ]
          },
          "metadata": {},
          "execution_count": 8
        }
      ]
    },
    {
      "cell_type": "markdown",
      "source": [
        "# Create features and labels from the data "
      ],
      "metadata": {
        "id": "EVqNpD9wCsfo"
      }
    },
    {
      "cell_type": "markdown",
      "source": [
        "Before implementing the neural network we first have to seperate the first three columns of the training data as input ( **x_train** ) and the fourth column ( **class_name** ) as output( **y_train** )."
      ],
      "metadata": {
        "id": "EIP7f3Ye2NOa"
      }
    },
    {
      "cell_type": "code",
      "source": [
        "x_train,y_train = train_data_updated.iloc[:, :-1], train_data_updated.iloc[:, [-1]]"
      ],
      "metadata": {
        "id": "6cxA8dydC9hJ"
      },
      "execution_count": null,
      "outputs": []
    },
    {
      "cell_type": "code",
      "source": [
        "x_train.shape"
      ],
      "metadata": {
        "colab": {
          "base_uri": "https://localhost:8080/"
        },
        "id": "9cYuthlmEeER",
        "outputId": "d9cd0485-4ada-48da-b2de-c24ea3e7afe1"
      },
      "execution_count": null,
      "outputs": [
        {
          "output_type": "execute_result",
          "data": {
            "text/plain": [
              "(15000, 4)"
            ]
          },
          "metadata": {},
          "execution_count": 10
        }
      ]
    },
    {
      "cell_type": "code",
      "source": [
        "y_train.shape"
      ],
      "metadata": {
        "colab": {
          "base_uri": "https://localhost:8080/"
        },
        "id": "tWKuF64OEenH",
        "outputId": "d611a43c-399b-495e-9f56-aac5e4de8846"
      },
      "execution_count": null,
      "outputs": [
        {
          "output_type": "execute_result",
          "data": {
            "text/plain": [
              "(15000, 1)"
            ]
          },
          "metadata": {},
          "execution_count": 11
        }
      ]
    },
    {
      "cell_type": "markdown",
      "source": [
        "# Implement the neural network"
      ],
      "metadata": {
        "id": "SNRFbxsA7ZTC"
      }
    },
    {
      "cell_type": "markdown",
      "source": [
        "It is better for the neural network to learn, if the data is scaled between 0 to 1. "
      ],
      "metadata": {
        "id": "y-5yhcHC3-TD"
      }
    },
    {
      "cell_type": "code",
      "source": [
        "x_train = np.array(x_train)\n",
        "y_train = np.array(y_train)"
      ],
      "metadata": {
        "id": "5XT93YhI7gCV"
      },
      "execution_count": null,
      "outputs": []
    },
    {
      "cell_type": "code",
      "source": [
        "x_train = preprocessing.normalize(x_train)"
      ],
      "metadata": {
        "id": "0slfOYtUdI4B"
      },
      "execution_count": null,
      "outputs": []
    },
    {
      "cell_type": "code",
      "source": [
        "x_train"
      ],
      "metadata": {
        "colab": {
          "base_uri": "https://localhost:8080/"
        },
        "id": "aeG74F9vyIvW",
        "outputId": "d5e1499d-8739-449f-9630-8ee30483ca4b"
      },
      "execution_count": null,
      "outputs": [
        {
          "output_type": "execute_result",
          "data": {
            "text/plain": [
              "array([[-0.58754979,  0.07239818, -0.72072944, -0.36068382],\n",
              "       [ 0.90277213,  0.32178612,  0.19205158,  0.21112169],\n",
              "       [-0.28696598, -0.88540038,  0.35946906,  0.06707226],\n",
              "       ...,\n",
              "       [-0.65949858, -0.6046807 ,  0.25196176, -0.36869792],\n",
              "       [-0.34473672, -0.52045615, -0.56374807,  0.54080505],\n",
              "       [ 0.32573427, -0.41451062, -0.55151678, -0.64645756]])"
            ]
          },
          "metadata": {},
          "execution_count": 14
        }
      ]
    },
    {
      "cell_type": "code",
      "source": [
        "x_train.shape"
      ],
      "metadata": {
        "colab": {
          "base_uri": "https://localhost:8080/"
        },
        "id": "WIIXdKm1T-6g",
        "outputId": "6f82b057-cf0a-4db3-f0a5-cdd6dba72db2"
      },
      "execution_count": null,
      "outputs": [
        {
          "output_type": "execute_result",
          "data": {
            "text/plain": [
              "(15000, 4)"
            ]
          },
          "metadata": {},
          "execution_count": 15
        }
      ]
    },
    {
      "cell_type": "code",
      "source": [
        "y_train"
      ],
      "metadata": {
        "colab": {
          "base_uri": "https://localhost:8080/"
        },
        "id": "wN1KzfkdETjP",
        "outputId": "9ed21654-3d8f-436e-ecc5-8a62d356fa01"
      },
      "execution_count": null,
      "outputs": [
        {
          "output_type": "execute_result",
          "data": {
            "text/plain": [
              "array([[1],\n",
              "       [0],\n",
              "       [0],\n",
              "       ...,\n",
              "       [0],\n",
              "       [1],\n",
              "       [1]])"
            ]
          },
          "metadata": {},
          "execution_count": 16
        }
      ]
    },
    {
      "cell_type": "markdown",
      "source": [
        "I than split the data to validate the training of the network. I took 85% of the data for training the network and 15% of the data to validate the accuracy of training."
      ],
      "metadata": {
        "id": "c8D5fhaP5Qkp"
      }
    },
    {
      "cell_type": "code",
      "source": [
        "X_train, X_val, Y_train, Y_val = train_test_split(x_train, y_train, test_size=0.15, random_state=42)"
      ],
      "metadata": {
        "id": "7aMNUg-AGm9d"
      },
      "execution_count": null,
      "outputs": []
    },
    {
      "cell_type": "code",
      "source": [
        "X_train.shape"
      ],
      "metadata": {
        "colab": {
          "base_uri": "https://localhost:8080/"
        },
        "id": "wc0pKYgzBSt2",
        "outputId": "5385d179-6d3b-46fd-8ad9-1ab65a500b37"
      },
      "execution_count": null,
      "outputs": [
        {
          "output_type": "execute_result",
          "data": {
            "text/plain": [
              "(12750, 4)"
            ]
          },
          "metadata": {},
          "execution_count": 18
        }
      ]
    },
    {
      "cell_type": "markdown",
      "source": [
        "# Creating the DeepNeuralNetwork class"
      ],
      "metadata": {
        "id": "95XqlWf46MWm"
      }
    },
    {
      "cell_type": "markdown",
      "source": [
        "\n",
        "Here, I created a class named **DeepNeuralNetwork**. I set the number of **epochs** to 10000 and **learning rate** to 0.01. I used **Sigmoid** activision function for the output layer as it is a binary classification problem and **Relu** activision function for all the other layers."
      ],
      "metadata": {
        "id": "pi1pa50E67Mm"
      }
    },
    {
      "cell_type": "code",
      "source": [
        "class DeepNeuralNetwork:\n",
        "    def __init__(self, sizes, epochs=10000, learning_rate=.01):\n",
        "        self.sizes = sizes\n",
        "        self.epochs = epochs\n",
        "        self.learning_rate = learning_rate\n",
        "\n",
        "        # Initialize weights and biases\n",
        "        self.W = [None] * (len(self.sizes) - 1)\n",
        "        self.b = [None] * (len(self.sizes) - 1)\n",
        "        # set random value to weights and biases\n",
        "        for i in range(len(self.sizes) - 1):\n",
        "            self.W[i] = np.random.randn(self.sizes[i], self.sizes[i + 1])\n",
        "            self.b[i] = np.zeros((1, self.sizes[i + 1]))\n",
        "\n",
        "    def sigmoid(self, z):\n",
        "        return 1 / (1 + np.exp(-z)), z\n",
        "\n",
        "    def sigmoid_backward(self, da, z):\n",
        "        c = 1 / (1 + np.exp(-z))\n",
        "        return da * c * (1 - c)\n",
        "\n",
        "    def relu(self, z):\n",
        "        return np.maximum(0, z), z\n",
        "\n",
        "    def relu_backward(self, dA, z):\n",
        "        dz = np.array(dA, copy=True)\n",
        "        dz[z <= 0] = 0\n",
        "        return dz\n",
        "\n",
        "    def compute_cost(self, prediction, Y):\n",
        "        m = Y.shape[0]\n",
        "        cost = (1 / m) * (-np.dot(np.log(prediction).T, Y) - np.dot(np.log(1 - prediction).T, 1 - Y))\n",
        "        cost = np.squeeze(cost)\n",
        "        return round(float(cost), 2)\n",
        "\n",
        "    def linear_forward(self, A, W, b): \n",
        "        Z = np.dot(A, W) + b\n",
        "        cache = (A, W, b)\n",
        "\n",
        "        return Z, cache\n",
        "\n",
        "    def linear_activation_forward(self, A_prev, W, b, activation):\n",
        "        if activation == 'sigmoid':\n",
        "            Z, linear_cache = self.linear_forward(A_prev, W, b)\n",
        "            A, activation_cache = self.sigmoid(Z)\n",
        "        elif activation == 'relu':\n",
        "            Z, linear_cache = self.linear_forward(A_prev, W, b)\n",
        "            A, activation_cache = self.relu(Z)\n",
        "        cache = (linear_cache, activation_cache)\n",
        "        return A, cache\n",
        "\n",
        "    def linear_backward(self, dZ, cache):\n",
        "        A_prev, W, b = cache\n",
        "        m = A_prev.shape[0]\n",
        "        dW = np.dot(A_prev.T, dZ) / m\n",
        "        db = np.sum(dZ, axis=0, keepdims=True) / m\n",
        "        dA_prev = np.dot(dZ, W.T)\n",
        "        return dA_prev, dW, db\n",
        "\n",
        "    def linear_activation_backward(self, dA, cache, activation):\n",
        "        linear_cache, activation_cache = cache\n",
        "        if activation == 'sigmoid':\n",
        "            dZ = self.sigmoid_backward(dA, activation_cache)\n",
        "            dA_prev, dW, db = self.linear_backward(dZ, linear_cache)\n",
        "        elif activation == 'relu':\n",
        "            dZ = self.relu_backward(dA, activation_cache)\n",
        "            dA_prev, dW, db = self.linear_backward(dZ, linear_cache)\n",
        "        return dA_prev, dW, db\n",
        "\n",
        "    def forward(self, X):\n",
        "        caches = []\n",
        "        A = X\n",
        "        L = len(self.sizes) - 1\n",
        "        for l in range(1, L):\n",
        "            A_prev = A\n",
        "            A, cache = self.linear_activation_forward(A_prev, self.W[l - 1], self.b[l - 1], 'relu')\n",
        "            caches.append(cache)\n",
        "        AL, cache = self.linear_activation_forward(A, self.W[L - 1], self.b[L - 1], 'sigmoid')\n",
        "        caches.append(cache)\n",
        "        return AL, caches\n",
        "\n",
        "    def backward(self, AL, Y, caches):\n",
        "        grads = {}\n",
        "        L = len(self.sizes) - 1\n",
        "        Y = Y.reshape(AL.shape)\n",
        "        # First order derivatie of loss function output with respect to AL\n",
        "        dAL = - (np.divide(Y, AL) - np.divide(1 - Y, 1 - AL))\n",
        "        current_cache = caches[L - 1]\n",
        "        grads[\"dA\" + str(L)], grads[\"dW\" + str(L)], grads[\"db\" + str(L)] = self.linear_activation_backward(dAL, current_cache, 'sigmoid')\n",
        "        for l in reversed(range(L - 1)):\n",
        "            current_cache = caches[l]\n",
        "            dA_prev_temp, dW_temp, db_temp = self.linear_activation_backward(grads[\"dA\" + str(l + 2)], current_cache, 'relu')\n",
        "            grads[\"dA\" + str(l + 1)] = dA_prev_temp\n",
        "            grads[\"dW\" + str(l + 1)] = dW_temp\n",
        "            grads[\"db\" + str(l + 1)] = db_temp\n",
        "        return grads\n",
        "\n",
        "    def update_parameters(self, grads, learning_rate):\n",
        "        L = len(self.sizes) - 1\n",
        "        for l in range(L):\n",
        "            self.W[l] = self.W[l] - learning_rate * grads[\"dW\" + str(l + 1)]\n",
        "            self.b[l] = self.b[l] - learning_rate * grads[\"db\" + str(l + 1)]\n",
        "\n",
        "    def train(self, X, Y, X_val, Y_val):\n",
        "        train_losses, train_accuracies = [], []\n",
        "        validation_losses, validation_accuracies = [], []\n",
        "        for i in range(self.epochs):\n",
        "            AL, caches = self.forward(X)\n",
        "            grads = self.backward(AL, Y, caches)\n",
        "            self.update_parameters(grads, self.learning_rate)\n",
        "            cost = self.compute_cost(AL, Y)\n",
        "            # measure accuracy\n",
        "            prediction = np.where(AL > .5, 1, 0)\n",
        "            accuracy = round(accuracy_score(prediction, Y) * 100, 2)\n",
        "            # Validation\n",
        "            AL_val, _ = self.forward(X_val)\n",
        "            val_cost = self.compute_cost(AL_val, Y_val)\n",
        "            val_prediction = np.where(AL_val > .5, 1, 0)\n",
        "            val_accuracy = round(accuracy_score(val_prediction, Y_val) * 100, 2)\n",
        "            if i% 500 == 0:\n",
        "              print(f'Epoch: {i},\\n Train: \\t Accuracy: {accuracy}, cost: {cost}\\n '\n",
        "                  f'Validation: \\t Accuracy: {val_accuracy}, cost: {val_cost}')\n",
        "            train_losses.append(cost)\n",
        "            train_accuracies.append(accuracy)\n",
        "            validation_losses.append(val_cost)\n",
        "            validation_accuracies.append(val_accuracy)\n",
        "        return train_losses, train_accuracies, validation_losses, validation_accuracies\n",
        "\n",
        "    def predict(self, X):\n",
        "        AL, caches = self.forward(X)\n",
        "        return np.where(AL > .5, 1, 0)\n",
        "    \n",
        "    def get_test_accuracy(self, X, Y):\n",
        "        predict = self.predict(X)\n",
        "        return round(accuracy_score(predict, Y) * 100, 2)\n",
        "    "
      ],
      "metadata": {
        "id": "MCoRBn4aH8VH"
      },
      "execution_count": null,
      "outputs": []
    },
    {
      "cell_type": "markdown",
      "source": [
        "I created an object **dnn** using the **DeepNeuralNetwork** class. Here,after tweaking with different layer sizes, I set the number of neurons for the first and second hidden layers to 9 and 19 respectively. And finally I trained the object using the **train** method. "
      ],
      "metadata": {
        "id": "VNhMA3di8-xT"
      }
    },
    {
      "cell_type": "code",
      "source": [
        "sizes = (4,9,19,1)\n",
        "dnn = DeepNeuralNetwork(sizes, epochs=10001)\n",
        "train_losses, train_accuracies, validation_losses, validation_accuracies = dnn.train(X_train, Y_train, X_val, Y_val)"
      ],
      "metadata": {
        "colab": {
          "base_uri": "https://localhost:8080/"
        },
        "id": "vjF6FzGnJBqY",
        "outputId": "fcf6d76c-0b8d-4801-d582-184a67b74b47"
      },
      "execution_count": null,
      "outputs": [
        {
          "output_type": "stream",
          "name": "stdout",
          "text": [
            "Epoch: 0,\n",
            " Train: \t Accuracy: 54.68, cost: 2.0\n",
            " Validation: \t Accuracy: 58.18, cost: 1.81\n",
            "Epoch: 500,\n",
            " Train: \t Accuracy: 77.18, cost: 0.46\n",
            " Validation: \t Accuracy: 76.71, cost: 0.46\n",
            "Epoch: 1000,\n",
            " Train: \t Accuracy: 78.46, cost: 0.44\n",
            " Validation: \t Accuracy: 77.87, cost: 0.44\n",
            "Epoch: 1500,\n",
            " Train: \t Accuracy: 79.18, cost: 0.43\n",
            " Validation: \t Accuracy: 79.42, cost: 0.43\n",
            "Epoch: 2000,\n",
            " Train: \t Accuracy: 79.65, cost: 0.42\n",
            " Validation: \t Accuracy: 79.96, cost: 0.42\n",
            "Epoch: 2500,\n",
            " Train: \t Accuracy: 80.15, cost: 0.41\n",
            " Validation: \t Accuracy: 80.53, cost: 0.41\n",
            "Epoch: 3000,\n",
            " Train: \t Accuracy: 80.62, cost: 0.41\n",
            " Validation: \t Accuracy: 81.07, cost: 0.41\n",
            "Epoch: 3500,\n",
            " Train: \t Accuracy: 81.06, cost: 0.4\n",
            " Validation: \t Accuracy: 81.51, cost: 0.4\n",
            "Epoch: 4000,\n",
            " Train: \t Accuracy: 81.34, cost: 0.4\n",
            " Validation: \t Accuracy: 81.82, cost: 0.4\n",
            "Epoch: 4500,\n",
            " Train: \t Accuracy: 81.51, cost: 0.4\n",
            " Validation: \t Accuracy: 81.87, cost: 0.39\n",
            "Epoch: 5000,\n",
            " Train: \t Accuracy: 81.69, cost: 0.39\n",
            " Validation: \t Accuracy: 82.0, cost: 0.39\n",
            "Epoch: 5500,\n",
            " Train: \t Accuracy: 81.97, cost: 0.39\n",
            " Validation: \t Accuracy: 81.96, cost: 0.39\n",
            "Epoch: 6000,\n",
            " Train: \t Accuracy: 82.12, cost: 0.39\n",
            " Validation: \t Accuracy: 82.27, cost: 0.38\n",
            "Epoch: 6500,\n",
            " Train: \t Accuracy: 82.3, cost: 0.39\n",
            " Validation: \t Accuracy: 82.22, cost: 0.38\n",
            "Epoch: 7000,\n",
            " Train: \t Accuracy: 82.39, cost: 0.38\n",
            " Validation: \t Accuracy: 82.36, cost: 0.38\n",
            "Epoch: 7500,\n",
            " Train: \t Accuracy: 82.41, cost: 0.38\n",
            " Validation: \t Accuracy: 82.53, cost: 0.38\n",
            "Epoch: 8000,\n",
            " Train: \t Accuracy: 82.51, cost: 0.38\n",
            " Validation: \t Accuracy: 82.89, cost: 0.38\n",
            "Epoch: 8500,\n",
            " Train: \t Accuracy: 82.64, cost: 0.38\n",
            " Validation: \t Accuracy: 83.07, cost: 0.37\n",
            "Epoch: 9000,\n",
            " Train: \t Accuracy: 82.64, cost: 0.38\n",
            " Validation: \t Accuracy: 83.16, cost: 0.37\n",
            "Epoch: 9500,\n",
            " Train: \t Accuracy: 82.71, cost: 0.38\n",
            " Validation: \t Accuracy: 83.16, cost: 0.37\n",
            "Epoch: 10000,\n",
            " Train: \t Accuracy: 82.78, cost: 0.38\n",
            " Validation: \t Accuracy: 83.29, cost: 0.37\n"
          ]
        }
      ]
    },
    {
      "cell_type": "code",
      "source": [
        "y_train.shape"
      ],
      "metadata": {
        "colab": {
          "base_uri": "https://localhost:8080/"
        },
        "id": "UjuZkO3RlQg7",
        "outputId": "d4f1fa0c-6eee-4089-9476-3751196c1d33"
      },
      "execution_count": null,
      "outputs": [
        {
          "output_type": "execute_result",
          "data": {
            "text/plain": [
              "(15000, 1)"
            ]
          },
          "metadata": {},
          "execution_count": 21
        }
      ]
    },
    {
      "cell_type": "markdown",
      "source": [
        "We can see that the final train and validation accuracies are **82.78 %** and **83.29 %** respectively."
      ],
      "metadata": {
        "id": "kSD0StG9-8uU"
      }
    },
    {
      "cell_type": "markdown",
      "source": [
        "# Plotting the loss and accuracy graph for the train and validation data"
      ],
      "metadata": {
        "id": "IE_XG85KMEa3"
      }
    },
    {
      "cell_type": "markdown",
      "source": [
        "I plotted loss and accuracy graphs for train and validation data in order to see if there is overfitting. The plots clearly shows there is no overfitting. I will further verify it by checking the prediction accuracy of Test data. If the accuracy of test data is consistant or close enough with the training accuracy then we can say the data fitting is generalized. "
      ],
      "metadata": {
        "id": "JPlt9mLQMaU-"
      }
    },
    {
      "cell_type": "code",
      "source": [
        "plt.plot(train_losses, label=\"Train loss\")\n",
        "plt.plot(validation_losses, label=\"Validation loss\")\n",
        "plt.legend()\n",
        "plt.title(\"Losses\")"
      ],
      "metadata": {
        "colab": {
          "base_uri": "https://localhost:8080/",
          "height": 298
        },
        "id": "4ZVfIkZaJ4Pd",
        "outputId": "066deb4f-e6e2-4231-b51f-c732dd2659f1"
      },
      "execution_count": null,
      "outputs": [
        {
          "output_type": "execute_result",
          "data": {
            "text/plain": [
              "Text(0.5, 1.0, 'Losses')"
            ]
          },
          "metadata": {},
          "execution_count": 22
        },
        {
          "output_type": "display_data",
          "data": {
            "text/plain": [
              "<Figure size 432x288 with 1 Axes>"
            ],
            "image/png": "[encoded data removed]"
          },
          "metadata": {
            "needs_background": "light"
          }
        }
      ]
    },
    {
      "cell_type": "code",
      "source": [
        "plt.plot(train_accuracies, label=\"Train accuracy\")\n",
        "plt.plot(validation_accuracies, label=\"Validation accuracy\")\n",
        "plt.legend()\n",
        "plt.title(\"accuracy\")"
      ],
      "metadata": {
        "colab": {
          "base_uri": "https://localhost:8080/",
          "height": 298
        },
        "id": "peui54i6NzaS",
        "outputId": "e3c3138b-f142-430b-eb20-c5c394933ded"
      },
      "execution_count": null,
      "outputs": [
        {
          "output_type": "execute_result",
          "data": {
            "text/plain": [
              "Text(0.5, 1.0, 'accuracy')"
            ]
          },
          "metadata": {},
          "execution_count": 23
        },
        {
          "output_type": "display_data",
          "data": {
            "text/plain": [
              "<Figure size 432x288 with 1 Axes>"
            ],
            "image/png": "[encoded data removed]"
          },
          "metadata": {
            "needs_background": "light"
          }
        }
      ]
    },
    {
      "cell_type": "markdown",
      "source": [
        "# Apply on test data"
      ],
      "metadata": {
        "id": "_pBiwXtMv1pW"
      }
    },
    {
      "cell_type": "markdown",
      "source": [
        "![test.jpg](data:image/jpeg;base64,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)"
      ],
      "metadata": {
        "id": "2Y-y9p_aP87H"
      }
    },
    {
      "cell_type": "markdown",
      "source": [
        "As instructed in the test data matlab file in the figure above, the expected class labels are 2,2,1,1,2,2,1,1,.....This would be in our case 1,1,0,0,1,1,0,0,...Now, we will preprocess the test data the simillar way that we did in case of training data."
      ],
      "metadata": {
        "id": "1VMJyT8XO5iD"
      }
    },
    {
      "cell_type": "code",
      "source": [
        "# labeling the data in the described order 2,2,1,1,2,2,1,1,.....('0' for class 1 and '1' for class 2)\n",
        "test_data['class_name'] = np.asarray([1, 1, 0, 0] * 3750) \n",
        "test_data_updated = test_data.sample(frac=1).reset_index(drop=True)\n",
        "x_test,y_test = test_data_updated.iloc[:, :-1], test_data_updated.iloc[:, [-1]]\n",
        "x_test = np.array(x_test)\n",
        "y_test = np.array(y_test)\n",
        "x_test = preprocessing.normalize(x_test)"
      ],
      "metadata": {
        "id": "FESACLFktFeI"
      },
      "execution_count": null,
      "outputs": []
    },
    {
      "cell_type": "markdown",
      "source": [
        "We checked the accuracy of test data by applying the **get_test_accuracy** method which we created inside the **DeepNeuralNertwork** class. The test accuracy is **83.27 %**."
      ],
      "metadata": {
        "id": "yaIs_pNwR6Wr"
      }
    },
    {
      "cell_type": "code",
      "source": [
        "dnn.get_test_accuracy(x_test, y_test)"
      ],
      "metadata": {
        "colab": {
          "base_uri": "https://localhost:8080/"
        },
        "id": "tCPaNQ2Swm41",
        "outputId": "f61b2c12-4f6e-4b6e-8751-eead08c1d51b"
      },
      "execution_count": null,
      "outputs": [
        {
          "output_type": "execute_result",
          "data": {
            "text/plain": [
              "82.9"
            ]
          },
          "metadata": {},
          "execution_count": 26
        }
      ]
    }
  ]
}